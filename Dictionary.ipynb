{
  "nbformat": 4,
  "nbformat_minor": 0,
  "metadata": {
    "colab": {
      "name": "Dictionary.ipynb",
      "provenance": []
    },
    "kernelspec": {
      "name": "python3",
      "display_name": "Python 3"
    },
    "language_info": {
      "name": "python"
    }
  },
  "cells": [
    {
      "cell_type": "code",
      "source": [
        "for i in range(1,7):\n",
        "    print(\"*\"*i)"
      ],
      "metadata": {
        "colab": {
          "base_uri": "https://localhost:8080/"
        },
        "id": "kGW0hZNJz2Z_",
        "outputId": "53aa2456-6265-4e52-c488-61da6e6522f2"
      },
      "execution_count": null,
      "outputs": [
        {
          "output_type": "stream",
          "name": "stdout",
          "text": [
            "*\n",
            "**\n",
            "***\n",
            "****\n",
            "*****\n",
            "******\n"
          ]
        }
      ]
    },
    {
      "cell_type": "code",
      "source": [
        "for i in range(6,-1,-1):\n",
        "    print(\"*\"*i)"
      ],
      "metadata": {
        "colab": {
          "base_uri": "https://localhost:8080/"
        },
        "id": "2ZMMDPUUz88M",
        "outputId": "31c359be-d102-4e5c-e76a-64002be2f8a8"
      },
      "execution_count": null,
      "outputs": [
        {
          "output_type": "stream",
          "name": "stdout",
          "text": [
            "******\n",
            "*****\n",
            "****\n",
            "***\n",
            "**\n",
            "*\n",
            "\n"
          ]
        }
      ]
    },
    {
      "cell_type": "code",
      "source": [
        "S=input()\n",
        "s=\"\"\n",
        "l=[]\n",
        "for i in S:\n",
        "    if i==\"A\" or i==\"E\" or i==\"I\" or i==\"O\" or i==\"U\" or i==\"a\" or i==\"e\" or i==\"i\" or i==\"o\" or i==\"u\":\n",
        "        l.append(i)\n",
        "    else:\n",
        "        continue\n",
        "if len(l)==0:\n",
        "    print(\"No vowels in the input\")\n",
        "else:\n",
        "    for i in l:\n",
        "        s=s+i\n",
        "    print(s)"
      ],
      "metadata": {
        "id": "4uMhSeni0Cgn"
      },
      "execution_count": null,
      "outputs": []
    },
    {
      "cell_type": "code",
      "source": [
        "S=input()\n",
        "s=\"\"\n",
        "l=[]\n",
        "for i in S:\n",
        "    if ord(i)==65 or ord(i)==69 or ord(i)==73 or ord(i)==79 or ord(i)==85 or ord(i)==97 or ord(i)==101 or ord(i)==105 or ord(i)==111 or ord(i)==117:\n",
        "        l.append(i)\n",
        "    else:\n",
        "        continue\n",
        "if len(l)==0:\n",
        "    print(\"No vowels in the input\")\n",
        "else:\n",
        "    for i in l:\n",
        "        s=s+i\n",
        "    print(s)"
      ],
      "metadata": {
        "id": "m_xkK9bD0EGR"
      },
      "execution_count": null,
      "outputs": []
    },
    {
      "cell_type": "code",
      "source": [
        "c_d=dict()\n",
        "def add_details():\n",
        "  t=int(input())\n",
        "  for i in range(t):\n",
        "    d=dict()\n",
        "    print(\"enter name\")\n",
        "    d[\"name\"]=input()\n",
        "    print(\"enter phone number\")\n",
        "    d[\"number\"]=input()\n",
        "    c_d[i]=d\n",
        "    print(\"added\")\n",
        "def search_number():\n",
        "  print(\"enter name of candidate:\")\n",
        "  n=input()\n",
        "  l=[]\n",
        "  for k,v in c_d.items():\n",
        "    if v[\"name\"]==n:\n",
        "      l.append(v[\"number\"])\n",
        "    else:\n",
        "      continue\n",
        "  if len(l)==0:\n",
        "    print(\"detailes not found\")\n",
        "  else:\n",
        "    print(l)\n",
        "def search_name():\n",
        "  print(\"enter phone number of candidate:\")\n",
        "  n=input()\n",
        "  l=[]\n",
        "  for k,v in c_d.items():\n",
        "    if v[\"number\"]==n:\n",
        "      l.append(v[\"name\"])\n",
        "    else:\n",
        "      continue\n",
        "  if len(l)==0:\n",
        "    print(\"detailes not found\")\n",
        "  else:\n",
        "    print(l)\n",
        "def change_name():\n",
        "  print(\"enter number\")\n",
        "  n=input()\n",
        "  print(\"enter updated name\")\n",
        "  s=input()\n",
        "  for k,v in c_d.items():\n",
        "    if v[\"number\"]==n:\n",
        "      v[\"name\"]=s\n",
        "      print(\"updated\")\n",
        "      print(v)\n",
        "def change_number():\n",
        "  print(\"enter name\")\n",
        "  n=input()\n",
        "  print(\"enter updated number\")\n",
        "  s=input()\n",
        "  for k,v in c_d.items():\n",
        "    if v[\"name\"]==n:\n",
        "      v[\"number\"]=s\n",
        "      print(\"updated\")\n",
        "      print(v)\n",
        "def delete_details():\n",
        "  print(\"enter name of candidate\")\n",
        "  n=input()\n",
        "  for k,v in c_d.items():\n",
        "    if v[\"name\"]==n:\n",
        "      del c_d[k]\n",
        "      print(\"deleted\")\n",
        "      print(c_d)\n",
        "\n",
        "print(\"enter 0 to add new details\")\n",
        "print(\"enter 1 to search for phonenumber\")\n",
        "print(\"enter 2 to search for name\")\n",
        "print(\"enter 3 to change name\")\n",
        "print(\"enter 4 to change number\")\n",
        "print(\"enter 5 to delete candidate details\")\n",
        "print(\"enter 6 to view candidate details\")\n",
        "print(\"Enter your choice\")\n",
        "while(True):\n",
        "    ch=int(input())\n",
        "    if ch==0:\n",
        "      add_details()\n",
        "      continue\n",
        "    elif ch==1:\n",
        "      search_number()\n",
        "      continue\n",
        "    elif ch==2:\n",
        "      search_name()\n",
        "      continue\n",
        "    elif ch==3:\n",
        "      change_name()\n",
        "      continue\n",
        "    elif ch==4:\n",
        "      change_number()\n",
        "      continue\n",
        "    elif ch==5:\n",
        "      delete_details()\n",
        "      continue\n",
        "    elif ch==6:\n",
        "      print(c_d)\n",
        "    else:\n",
        "      print(\"number invalid, enter proper choice\")\n",
        "      break"
      ],
      "metadata": {
        "colab": {
          "base_uri": "https://localhost:8080/"
        },
        "id": "TaknbqWeg8d9",
        "outputId": "4dc2e454-bbfd-45fb-8265-30d0acca61ff"
      },
      "execution_count": null,
      "outputs": [
        {
          "output_type": "stream",
          "name": "stdout",
          "text": [
            "enter 0 to add new details\n",
            "enter 1 to search for phonenumber\n",
            "enter 2 to search for name\n",
            "enter 3 to change name\n",
            "enter 4 to change number\n",
            "enter 5 to delete candidate details\n",
            "enter 6 to view candidate details\n",
            "Enter your choice\n",
            "6\n",
            "{}\n",
            "9\n",
            "number invalid, enter proper choice\n"
          ]
        }
      ]
    },
    {
      "cell_type": "markdown",
      "source": [
        "Website is a collection of web pages which provide information an oragnization or person or service etc. \n",
        "\n",
        "Web application is set of programs designed to complete a task or solve a problem."
      ],
      "metadata": {
        "id": "Dn5byz0ghKba"
      }
    }
  ]
}